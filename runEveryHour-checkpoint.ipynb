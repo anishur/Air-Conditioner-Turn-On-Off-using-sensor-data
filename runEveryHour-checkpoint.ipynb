{
 "cells": [
  {
   "cell_type": "code",
   "execution_count": 7,
   "id": "2787b6c3-5930-4938-ab91-a9fea106d544",
   "metadata": {},
   "outputs": [
    {
     "name": "stdout",
     "output_type": "stream",
     "text": [
      "Hello World !\n"
     ]
    }
   ],
   "source": [
    "import time\n",
    "def runhour():\n",
    "  print(\"Hello World !\")\n",
    "\n",
    "\n",
    "   \n",
    "#time.sleep(3600)\n",
    "runhour()\n",
    "time.sleep(6)"
   ]
  },
  {
   "cell_type": "code",
   "execution_count": 10,
   "id": "765dd996-7dbe-439f-affd-cb26386125c5",
   "metadata": {},
   "outputs": [],
   "source": [
    "#!pip install apscheduler"
   ]
  },
  {
   "cell_type": "code",
   "execution_count": 2,
   "id": "50b79aa2-d047-4d68-a30c-b43fd1c0e14f",
   "metadata": {},
   "outputs": [
    {
     "name": "stdout",
     "output_type": "stream",
     "text": [
      "Hello World !\n"
     ]
    }
   ],
   "source": [
    "runhour()"
   ]
  },
  {
   "cell_type": "markdown",
   "id": "daeb0122-9138-4d53-b4e7-b5a200cd5f92",
   "metadata": {},
   "source": [
    "import datetime\n",
    "import time\n",
    "from apscheduler.schedulers import Scheduler\n",
    "\n",
    "# Start the scheduler\n",
    "sched = Scheduler()\n",
    "sched.daemonic = False\n",
    "sched.start()\n",
    "\n",
    "def job_function():\n",
    "    print(\"Hello World\")\n",
    "    print(datetime.datetime.now())\n",
    "    time.sleep(20)\n",
    "\n",
    "# Schedules job_function to be run once each minute\n",
    "sched.add_cron_job(job_function,  minute='0-59')"
   ]
  },
  {
   "cell_type": "code",
   "execution_count": null,
   "id": "a8636f31-09db-40b8-898b-5f6436084957",
   "metadata": {},
   "outputs": [],
   "source": [
    "#Ref:https://stackoverflow.com/questions/24921383/apscheduleradvance-python-scheduler-importerror-no-module-named-scheduler"
   ]
  },
  {
   "cell_type": "code",
   "execution_count": 4,
   "id": "1f1af685-432d-4afa-afd1-6b4b23edc3f2",
   "metadata": {},
   "outputs": [
    {
     "name": "stdout",
     "output_type": "stream",
     "text": [
      "Tick! The time is: 2021-09-07 14:44:39.144597\n",
      "Hello World !\n",
      "Tick! The time is: 2021-09-07 14:44:42.134684\n",
      "Hello World !\n",
      "Tick! The time is: 2021-09-07 14:44:45.137258Hello World !\n",
      "\n",
      "Tick! The time is: 2021-09-07 14:44:48.138051Hello World !\n",
      "\n",
      "Tick! The time is: 2021-09-07 14:44:51.137512Hello World !\n",
      "\n",
      "Tick! The time is: 2021-09-07 14:44:54.137859Hello World !\n",
      "\n",
      "Tick! The time is: 2021-09-07 14:44:57.135437Hello World !\n",
      "\n",
      "Tick! The time is: 2021-09-07 14:45:00.136115Hello World !\n",
      "\n",
      "Tick! The time is: 2021-09-07 14:45:03.145989\n",
      "Hello World !\n",
      "Tick! The time is: 2021-09-07 14:45:06.146127Hello World !\n",
      "\n",
      "Tick! The time is: 2021-09-07 14:45:09.146824Hello World !\n",
      "\n",
      "Tick! The time is: 2021-09-07 14:45:12.142568\n",
      "Hello World !\n",
      "Tick! The time is: 2021-09-07 14:45:15.140952\n",
      "Hello World !\n",
      "Tick! The time is: 2021-09-07 14:45:18.146462Hello World !\n",
      "\n",
      "Tick! The time is: 2021-09-07 14:45:21.138031Hello World !\n",
      "\n",
      "Tick! The time is: 2021-09-07 14:45:24.144546Hello World !\n",
      "\n",
      "Tick! The time is: 2021-09-07 14:45:27.136484\n",
      "Hello World !\n",
      "Tick! The time is: 2021-09-07 14:45:30.146616Hello World !\n",
      "\n"
     ]
    }
   ],
   "source": [
    "from datetime import datetime\n",
    "import os\n",
    "\n",
    "from apscheduler.schedulers.blocking import BlockingScheduler\n",
    "\n",
    "\n",
    "def tick():\n",
    "    print('Tick! The time is: %s' % datetime.now())\n",
    "\n",
    "def hello():\n",
    "    print('Hello World !')\n",
    "    \n",
    "if __name__ == '__main__':\n",
    "    scheduler = BlockingScheduler()\n",
    "    scheduler.add_job(tick, 'interval', seconds=3)\n",
    "    scheduler.add_job(hello, 'interval', seconds=3)\n",
    "    #scheduler.add_job(hello, 'interval', seconds=600)\n",
    "    #print('Press Ctrl+{0} to exit'.format('Break' if os.name == 'nt' else 'C'))\n",
    "\n",
    "    try:\n",
    "       scheduler.start()\n",
    "    except (KeyboardInterrupt, SystemExit):\n",
    "        pass"
   ]
  },
  {
   "cell_type": "code",
   "execution_count": null,
   "id": "c73751e2-83eb-48d7-a578-c3af203226ea",
   "metadata": {},
   "outputs": [],
   "source": []
  }
 ],
 "metadata": {
  "kernelspec": {
   "display_name": "Python 3",
   "language": "python",
   "name": "python3"
  },
  "language_info": {
   "codemirror_mode": {
    "name": "ipython",
    "version": 3
   },
   "file_extension": ".py",
   "mimetype": "text/x-python",
   "name": "python",
   "nbconvert_exporter": "python",
   "pygments_lexer": "ipython3",
   "version": "3.8.8"
  },
  "widgets": {
   "application/vnd.jupyter.widget-state+json": {
    "state": {},
    "version_major": 2,
    "version_minor": 0
   }
  }
 },
 "nbformat": 4,
 "nbformat_minor": 5
}
