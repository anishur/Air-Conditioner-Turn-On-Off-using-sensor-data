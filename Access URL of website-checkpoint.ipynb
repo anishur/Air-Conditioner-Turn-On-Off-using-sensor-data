{
 "cells": [
  {
   "cell_type": "code",
   "execution_count": 115,
   "metadata": {},
   "outputs": [],
   "source": [
    "from bs4 import BeautifulSoup\n",
    "import requests\n",
    "import pandas as pd\n",
    "import urllib.request\n",
    "import json\n",
    "import dload"
   ]
  },
  {
   "cell_type": "code",
   "execution_count": 143,
   "metadata": {},
   "outputs": [
    {
     "name": "stdout",
     "output_type": "stream",
     "text": [
      "{\"wifi_sta\":{\"connected\":true,\"ssid\":\"Cecolab_WiFi\",\"ip\":\"192.168.1.52\",\"rssi\":-58},\"cloud\":{\"enabled\":false,\"connected\":false},\"mqtt\":{\"connected\":false},\"time\":\"11:05\",\"serial\":1,\"has_update\":true,\"mac\":\"E8DB84D7F06C\",\"relays\" :[{\"ison\":true, \"has_timer\":false,\"overpower\":false}],\"meters\":[{\"power\":74.79,\"is_valid\":true,\"timestamp\":1630926334,\"counters\":[74.767, 74.772, 74.780],\"total\":61117}],\"inputs\":[{\"input\":1}],\"ext_temperature\":{},\"temperature\":48.57,\"overtemperature\":false,\"tmp\":{\"tC\":48.57,\"tF\":119.43, \"is_valid\":\"true\"},\"update\":{\"status\":\"pending\",\"has_update\":true,\"new_version\":\"20210727-202339/v1.11.2-g25b6953\",\"old_version\":\"20191219-114622/1047-long-id-for-shelly-devices@d05667c7\"},\"ram_total\":50680,\"ram_free\":39860,\"fs_size\":233681,\"fs_free\":172939,\"uptime\":343520}\n"
     ]
    }
   ],
   "source": [
    "# Method -01\n",
    "\n",
    "url = 'http://192.168.1.52/status'\n",
    "req = requests.get(url)\n",
    "content = req.text\n",
    "print(content)"
   ]
  },
  {
   "cell_type": "code",
   "execution_count": null,
   "metadata": {},
   "outputs": [],
   "source": [
    "#Method - 02\n",
    "\n",
    "htmlfile = urllib.request.urlopen(url)\n",
    "html_data = json.loads(htmlfile.read())   # loads then need .read()\n",
    "print(html_data)"
   ]
  },
  {
   "cell_type": "code",
   "execution_count": null,
   "metadata": {},
   "outputs": [],
   "source": [
    "# Method - 03\n",
    "\n",
    "htmlfile = urllib.request.urlopen(url)\n",
    "htmldata = json.load(htmlfile)           # load donot need .read()\n",
    "print(htmldata)"
   ]
  },
  {
   "cell_type": "code",
   "execution_count": 132,
   "metadata": {},
   "outputs": [
    {
     "name": "stdout",
     "output_type": "stream",
     "text": [
      "{'wifi_sta': {'connected': True, 'ssid': 'Cecolab_WiFi', 'ip': '192.168.1.52', 'rssi': -56}, 'cloud': {'enabled': False, 'connected': False}, 'mqtt': {'connected': False}, 'time': '11:04', 'serial': 1, 'has_update': True, 'mac': 'E8DB84D7F06C', 'relays': [{'ison': True, 'has_timer': False, 'overpower': False}], 'meters': [{'power': 74.78, 'is_valid': True, 'timestamp': 1630926260, 'counters': [74.772, 74.78, 74.784], 'total': 61042}], 'inputs': [{'input': 1}], 'ext_temperature': {}, 'temperature': 48.57, 'overtemperature': False, 'tmp': {'tC': 48.57, 'tF': 119.43, 'is_valid': 'true'}, 'update': {'status': 'pending', 'has_update': True, 'new_version': '20210727-202339/v1.11.2-g25b6953', 'old_version': '20191219-114622/1047-long-id-for-shelly-devices@d05667c7'}, 'ram_total': 50680, 'ram_free': 39860, 'fs_size': 233681, 'fs_free': 172939, 'uptime': 343447}\n"
     ]
    }
   ],
   "source": [
    "# Method -04\n",
    "\n",
    "j = dload.json(url)\n",
    "print(j)"
   ]
  },
  {
   "cell_type": "code",
   "execution_count": 133,
   "metadata": {},
   "outputs": [
    {
     "data": {
      "text/plain": [
       "[{'ison': True, 'has_timer': False, 'overpower': False}]"
      ]
     },
     "execution_count": 133,
     "metadata": {},
     "output_type": "execute_result"
    }
   ],
   "source": [
    "d = (j['relays'])\n",
    "d"
   ]
  },
  {
   "cell_type": "code",
   "execution_count": 137,
   "metadata": {},
   "outputs": [],
   "source": [
    "#airConditionIsOn = j['relays'][0]['ison']\n",
    "airConditionIsOn = d[0]['ison']"
   ]
  },
  {
   "cell_type": "code",
   "execution_count": 138,
   "metadata": {},
   "outputs": [
    {
     "data": {
      "text/plain": [
       "True"
      ]
     },
     "execution_count": 138,
     "metadata": {},
     "output_type": "execute_result"
    }
   ],
   "source": [
    "airConditionIsOn"
   ]
  },
  {
   "cell_type": "code",
   "execution_count": 140,
   "metadata": {},
   "outputs": [],
   "source": [
    "def airConditionIsOn():\n",
    "    url = 'http://192.168.1.52/status'\n",
    "    j = dload.json(url)\n",
    "    d = (j['relays'])\n",
    "    isOn = d[0]['ison']\n",
    "    #print(isOn)\n",
    "    if isOn == True:\n",
    "        print(isOn)\n",
    "    else:\n",
    "        print(isOn)"
   ]
  },
  {
   "cell_type": "code",
   "execution_count": 141,
   "metadata": {},
   "outputs": [
    {
     "name": "stdout",
     "output_type": "stream",
     "text": [
      "True\n"
     ]
    }
   ],
   "source": [
    "airConditionIsOn()"
   ]
  },
  {
   "cell_type": "code",
   "execution_count": null,
   "metadata": {},
   "outputs": [],
   "source": []
  },
  {
   "cell_type": "code",
   "execution_count": 142,
   "metadata": {},
   "outputs": [
    {
     "name": "stdout",
     "output_type": "stream",
     "text": [
      "True\n"
     ]
    }
   ],
   "source": [
    "url = 'http://192.168.1.52/status'\n",
    "j = dload.json(url)\n",
    "isOn = j['relays'][0]['ison']\n",
    "print(isOn)"
   ]
  },
  {
   "cell_type": "code",
   "execution_count": null,
   "metadata": {},
   "outputs": [],
   "source": []
  }
 ],
 "metadata": {
  "kernelspec": {
   "display_name": "Python 3",
   "language": "python",
   "name": "python3"
  },
  "language_info": {
   "codemirror_mode": {
    "name": "ipython",
    "version": 3
   },
   "file_extension": ".py",
   "mimetype": "text/x-python",
   "name": "python",
   "nbconvert_exporter": "python",
   "pygments_lexer": "ipython3",
   "version": "3.8.8"
  },
  "varInspector": {
   "cols": {
    "lenName": 16,
    "lenType": 16,
    "lenVar": 40
   },
   "kernels_config": {
    "python": {
     "delete_cmd_postfix": "",
     "delete_cmd_prefix": "del ",
     "library": "var_list.py",
     "varRefreshCmd": "print(var_dic_list())"
    },
    "r": {
     "delete_cmd_postfix": ") ",
     "delete_cmd_prefix": "rm(",
     "library": "var_list.r",
     "varRefreshCmd": "cat(var_dic_list()) "
    }
   },
   "types_to_exclude": [
    "module",
    "function",
    "builtin_function_or_method",
    "instance",
    "_Feature"
   ],
   "window_display": false
  },
  "widgets": {
   "application/vnd.jupyter.widget-state+json": {
    "state": {},
    "version_major": 2,
    "version_minor": 0
   }
  }
 },
 "nbformat": 4,
 "nbformat_minor": 4
}
