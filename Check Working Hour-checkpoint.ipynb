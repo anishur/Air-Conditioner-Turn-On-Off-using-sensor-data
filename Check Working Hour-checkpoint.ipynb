{
 "cells": [
  {
   "cell_type": "code",
   "execution_count": 2,
   "id": "779212cd-2cd9-4f4a-9a89-3b7f163a2a73",
   "metadata": {},
   "outputs": [],
   "source": []
  },
  {
   "cell_type": "code",
   "execution_count": 13,
   "id": "c90c7693-8d6e-4fb2-aeef-dfacbac37128",
   "metadata": {},
   "outputs": [],
   "source": [
    "def workingHourCheck():\n",
    "\n",
    "    from datetime import date, time, datetime\n",
    "    import sys\n",
    "    import os\n",
    "\n",
    "    \n",
    "    d = datetime.now()\n",
    "    print(d)\n",
    "    \n",
    "    if d.isoweekday()in range(1,5) and d.hour in range(9,11):\n",
    "        \n",
    "        print(\"Within the working hour \")\n",
    "     \n",
    "    elif d.isoweekday()==5 and d.hour*60+d.minute in range(9,16*60+30):\n",
    "        \n",
    "        print(\"working day\")\n",
    "        \n",
    "    else:\n",
    "\n",
    "        try:\n",
    "            sys.exit(0)\n",
    "            \n",
    "        except SystemExit:\n",
    "            \n",
    "            print(\"Program terminated because out of scope\")"
   ]
  },
  {
   "cell_type": "code",
   "execution_count": 14,
   "id": "2319ae1c-f33d-429d-afe5-e8c05cbb4918",
   "metadata": {},
   "outputs": [
    {
     "name": "stdout",
     "output_type": "stream",
     "text": [
      "2021-09-06 14:29:53.499242\n",
      "Program terminated because out of scope\n"
     ]
    }
   ],
   "source": [
    "workingHourCheck()"
   ]
  },
  {
   "cell_type": "code",
   "execution_count": null,
   "id": "68a7e829-c6b4-416b-a3a6-9148906c9549",
   "metadata": {},
   "outputs": [],
   "source": []
  }
 ],
 "metadata": {
  "kernelspec": {
   "display_name": "Python 3",
   "language": "python",
   "name": "python3"
  },
  "language_info": {
   "codemirror_mode": {
    "name": "ipython",
    "version": 3
   },
   "file_extension": ".py",
   "mimetype": "text/x-python",
   "name": "python",
   "nbconvert_exporter": "python",
   "pygments_lexer": "ipython3",
   "version": "3.8.8"
  },
  "varInspector": {
   "cols": {
    "lenName": 16,
    "lenType": 16,
    "lenVar": 40
   },
   "kernels_config": {
    "python": {
     "delete_cmd_postfix": "",
     "delete_cmd_prefix": "del ",
     "library": "var_list.py",
     "varRefreshCmd": "print(var_dic_list())"
    },
    "r": {
     "delete_cmd_postfix": ") ",
     "delete_cmd_prefix": "rm(",
     "library": "var_list.r",
     "varRefreshCmd": "cat(var_dic_list()) "
    }
   },
   "types_to_exclude": [
    "module",
    "function",
    "builtin_function_or_method",
    "instance",
    "_Feature"
   ],
   "window_display": false
  },
  "widgets": {
   "application/vnd.jupyter.widget-state+json": {
    "state": {},
    "version_major": 2,
    "version_minor": 0
   }
  }
 },
 "nbformat": 4,
 "nbformat_minor": 5
}
