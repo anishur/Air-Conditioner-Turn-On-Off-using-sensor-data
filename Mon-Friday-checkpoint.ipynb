{
 "cells": [
  {
   "cell_type": "code",
   "execution_count": 4,
   "id": "cda659fb-738f-485b-a3fb-99eda7cdc087",
   "metadata": {},
   "outputs": [],
   "source": [
    "# -*- coding: utf-8 -*-\n",
    "def workingHourCheck():\n",
    "    from datetime import date, time, datetime\n",
    "    import calendar\n",
    "    import sys\n",
    "\n",
    "    today_date = date.today()\n",
    "    week_day = calendar.day_name[today_date.weekday()]\n",
    "    #print(week_day)\n",
    "    d = datetime.now()\n",
    "    \n",
    "    if week_day in ['Monday','Tuesday', 'Wednesday','Thursday'] and d.hour in range(9,18):\n",
    "        print(\"Today:\", week_day, d)\n",
    "    else:\n",
    "        return print(\"Out of range !\")\n",
    "        #sys.exit()\n",
    "       \n"
   ]
  },
  {
   "cell_type": "code",
   "execution_count": 5,
   "id": "31b13d3f-37ec-4668-ad6f-9dd01e5886fb",
   "metadata": {},
   "outputs": [
    {
     "name": "stdout",
     "output_type": "stream",
     "text": [
      "Out of range !\n"
     ]
    }
   ],
   "source": [
    "workingHourCheck()"
   ]
  }
 ],
 "metadata": {
  "kernelspec": {
   "display_name": "Python 3",
   "language": "python",
   "name": "python3"
  },
  "language_info": {
   "codemirror_mode": {
    "name": "ipython",
    "version": 3
   },
   "file_extension": ".py",
   "mimetype": "text/x-python",
   "name": "python",
   "nbconvert_exporter": "python",
   "pygments_lexer": "ipython3",
   "version": "3.8.8"
  },
  "widgets": {
   "application/vnd.jupyter.widget-state+json": {
    "state": {},
    "version_major": 2,
    "version_minor": 0
   }
  }
 },
 "nbformat": 4,
 "nbformat_minor": 5
}
