{
 "cells": [
  {
   "cell_type": "code",
   "execution_count": 7,
   "id": "a03a9010-9c96-4fec-bc0f-4d1b4faec98d",
   "metadata": {},
   "outputs": [
    {
     "name": "stdout",
     "output_type": "stream",
     "text": [
      "Today: Friday 2021-09-10 12:57:42.333725 \n",
      "Not in working hours !\n"
     ]
    }
   ],
   "source": [
    "from datetime import date, time, datetime\n",
    "import calendar\n",
    "\n",
    "today_date = date.today()\n",
    "week_day = calendar.day_name[today_date.weekday()]\n",
    "#print(week_day)\n",
    "d = datetime.now()\n",
    "\n",
    "#print(\"Today:\", week_day, d)\n",
    "\n",
    "if week_day in ['Monday','Tuesday', 'Wednesday','Thursday'] and d.hour in range(9,18):\n",
    "        print(\"Today:\", week_day, d)\n",
    "else:\n",
    "        print(\"Today:\", week_day, d,'\\n'\"Not in working hours !\")"
   ]
  }
 ],
 "metadata": {
  "kernelspec": {
   "display_name": "Python 3",
   "language": "python",
   "name": "python3"
  },
  "language_info": {
   "codemirror_mode": {
    "name": "ipython",
    "version": 3
   },
   "file_extension": ".py",
   "mimetype": "text/x-python",
   "name": "python",
   "nbconvert_exporter": "python",
   "pygments_lexer": "ipython3",
   "version": "3.8.8"
  },
  "widgets": {
   "application/vnd.jupyter.widget-state+json": {
    "state": {},
    "version_major": 2,
    "version_minor": 0
   }
  }
 },
 "nbformat": 4,
 "nbformat_minor": 5
}
